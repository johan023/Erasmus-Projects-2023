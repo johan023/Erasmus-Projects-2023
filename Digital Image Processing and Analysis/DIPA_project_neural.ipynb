{
  "nbformat": 4,
  "nbformat_minor": 0,
  "metadata": {
    "colab": {
      "provenance": []
    },
    "kernelspec": {
      "name": "python3",
      "display_name": "Python 3"
    },
    "language_info": {
      "name": "python"
    }
  },
  "cells": [
    {
      "cell_type": "markdown",
      "source": [
        "Import the essential modules, including Matplotlib for charting, OpenCV for image processing, and Keras for building the deep learning model."
      ],
      "metadata": {
        "id": "OF68FthKiBPi"
      }
    },
    {
      "cell_type": "code",
      "execution_count": 1,
      "metadata": {
        "id": "A2LzO5cHzgD4"
      },
      "outputs": [],
      "source": [
        "import numpy as np\n",
        "from tensorflow.keras.datasets import cifar10\n",
        "from tensorflow.keras.models import Sequential\n",
        "from tensorflow.keras.layers import Conv2D, UpSampling2D\n",
        "from tensorflow.keras.optimizers import Adam\n",
        "import matplotlib.pyplot as plt\n",
        "import cv2"
      ]
    },
    {
      "cell_type": "markdown",
      "source": [
        "Load the cifar dataset, which contains 32x32 color images that can be used to teach a computer how to recognize objects"
      ],
      "metadata": {
        "id": "aWKwvJPffU1M"
      }
    },
    {
      "cell_type": "code",
      "source": [
        "(data_train, _), (data_test, _) = cifar10.load_data()"
      ],
      "metadata": {
        "id": "lPEt9lnvfVeh"
      },
      "execution_count": 2,
      "outputs": []
    },
    {
      "cell_type": "markdown",
      "source": [
        "To help the model learn more successfully, normalize the pixel values to be between 0 and 1."
      ],
      "metadata": {
        "id": "ynyg5Z3piOMH"
      }
    },
    {
      "cell_type": "code",
      "source": [
        "data_train = data_train.astype('float32') / 255.\n",
        "data_test = data_test.astype('float32') / 255.\n",
        "\n",
        "data_train = np.reshape(data_train, (len(data_train), 32, 32, 3))\n",
        "data_test = np.reshape(data_test, (len(data_test), 32, 32, 3))"
      ],
      "metadata": {
        "id": "j-9WdfZJiOwI"
      },
      "execution_count": 3,
      "outputs": []
    },
    {
      "cell_type": "markdown",
      "source": [
        "To produce low-resolution copies of the photographs, resize the original images to half their previous dimensions (16x16)."
      ],
      "metadata": {
        "id": "Bgl3kWQ8ircC"
      }
    },
    {
      "cell_type": "code",
      "source": [
        "data_train_compressed = np.array([cv2.resize(image, (16, 16)) for image in data_train])\n",
        "data_test_compressed = np.array([cv2.resize(image, (16, 16)) for image in data_test])"
      ],
      "metadata": {
        "id": "hI3xvdDsisFB"
      },
      "execution_count": 4,
      "outputs": []
    },
    {
      "cell_type": "markdown",
      "source": [
        "Set the autoencoder model parameters. The model has a convolutional layer, an upsampling layer that doubles the size of the image, another convolutional layer, and a final convolutional layer with a sigmoid activation function to produce the final upscaled image."
      ],
      "metadata": {
        "id": "MAIwAx6tizLR"
      }
    },
    {
      "cell_type": "code",
      "source": [
        "cnn = Sequential()\n",
        "cnn.add(Conv2D(64, (3, 3), activation='relu', padding='same', input_shape=(16, 16, 3)))\n",
        "cnn.add(UpSampling2D((2, 2)))\n",
        "cnn.add(Conv2D(32, (3, 3), activation='relu', padding='same'))\n",
        "cnn.add(Conv2D(3, (3, 3), activation='sigmoid', padding='same'))"
      ],
      "metadata": {
        "id": "gU4I9uHtiziL"
      },
      "execution_count": 5,
      "outputs": []
    },
    {
      "cell_type": "markdown",
      "source": [
        "Using the Adam optimizer and binary crossentropy as the loss function, compile the model."
      ],
      "metadata": {
        "id": "Nz1wagaHi_vt"
      }
    },
    {
      "cell_type": "code",
      "source": [
        "cnn.compile(optimizer=Adam(), loss='mean_squared_error')"
      ],
      "metadata": {
        "id": "YpY6LvQXi_Ed"
      },
      "execution_count": 6,
      "outputs": []
    },
    {
      "cell_type": "markdown",
      "source": [
        "The autoencoder is trained using low-resolution images as inputs and high-resolution images as targets."
      ],
      "metadata": {
        "id": "M_TDmZmzjFfh"
      }
    },
    {
      "cell_type": "code",
      "source": [
        "cnn.fit(data_train_compressed, data_train, epochs=10, batch_size=256, validation_data=(data_test_compressed, data_test))"
      ],
      "metadata": {
        "colab": {
          "base_uri": "https://localhost:8080/"
        },
        "id": "o3gIoXlsjGHQ",
        "outputId": "7a7434fe-6b1f-4f98-97d6-d91fcfeabb08"
      },
      "execution_count": 7,
      "outputs": [
        {
          "output_type": "stream",
          "name": "stdout",
          "text": [
            "Epoch 1/10\n",
            "196/196 [==============================] - 325s 2s/step - loss: 0.0104 - val_loss: 0.0043\n",
            "Epoch 2/10\n",
            "196/196 [==============================] - 320s 2s/step - loss: 0.0034 - val_loss: 0.0032\n",
            "Epoch 3/10\n",
            "196/196 [==============================] - 320s 2s/step - loss: 0.0031 - val_loss: 0.0030\n",
            "Epoch 4/10\n",
            "196/196 [==============================] - 320s 2s/step - loss: 0.0029 - val_loss: 0.0028\n",
            "Epoch 5/10\n",
            "196/196 [==============================] - 320s 2s/step - loss: 0.0028 - val_loss: 0.0027\n",
            "Epoch 6/10\n",
            "196/196 [==============================] - 320s 2s/step - loss: 0.0027 - val_loss: 0.0027\n",
            "Epoch 7/10\n",
            "196/196 [==============================] - 323s 2s/step - loss: 0.0026 - val_loss: 0.0026\n",
            "Epoch 8/10\n",
            "196/196 [==============================] - 317s 2s/step - loss: 0.0026 - val_loss: 0.0025\n",
            "Epoch 9/10\n",
            "196/196 [==============================] - 320s 2s/step - loss: 0.0026 - val_loss: 0.0025\n",
            "Epoch 10/10\n",
            "196/196 [==============================] - 320s 2s/step - loss: 0.0025 - val_loss: 0.0025\n"
          ]
        },
        {
          "output_type": "execute_result",
          "data": {
            "text/plain": [
              "<keras.callbacks.History at 0x7f50bc9ca830>"
            ]
          },
          "metadata": {},
          "execution_count": 7
        }
      ]
    },
    {
      "cell_type": "markdown",
      "source": [
        "Get a random image from the test set and add an extra dimension for the batch size."
      ],
      "metadata": {
        "id": "bE0djyPajImf"
      }
    },
    {
      "cell_type": "code",
      "source": [
        "id = np.random.randint(len(data_test_compressed))\n",
        "test_image_compressed = data_test_compressed[id]\n",
        "test_image_highres = data_test[id]\n",
        "test_image_input = np.expand_dims(test_image_compressed, axis=0)"
      ],
      "metadata": {
        "id": "pNO7qqrBjI_D"
      },
      "execution_count": 23,
      "outputs": []
    },
    {
      "cell_type": "markdown",
      "source": [
        "Use the model to upscale the image."
      ],
      "metadata": {
        "id": "c2gAMEQLjbg-"
      }
    },
    {
      "cell_type": "code",
      "source": [
        "upscaled_img = cnn.predict(test_image_input)"
      ],
      "metadata": {
        "colab": {
          "base_uri": "https://localhost:8080/"
        },
        "id": "a8IEBJHKjcBP",
        "outputId": "1f6561be-9c0b-4daf-b08e-95cd7e25e578"
      },
      "execution_count": 24,
      "outputs": [
        {
          "output_type": "stream",
          "name": "stdout",
          "text": [
            "1/1 [==============================] - 0s 21ms/step\n"
          ]
        }
      ]
    },
    {
      "cell_type": "markdown",
      "source": [
        "Remove the extra batch size dimension."
      ],
      "metadata": {
        "id": "5-qHPKTDjleQ"
      }
    },
    {
      "cell_type": "code",
      "source": [
        "upscaled_img = np.squeeze(upscaled_img, axis=0)\n",
        "test_img_input = np.squeeze(test_image_input, axis=0)"
      ],
      "metadata": {
        "id": "SbaHYPV2jnhu"
      },
      "execution_count": 25,
      "outputs": []
    },
    {
      "cell_type": "markdown",
      "source": [
        "Display the original low-resolution image, the upscaled image, and the original high-resolution image."
      ],
      "metadata": {
        "id": "yGOt_7Psf41j"
      }
    },
    {
      "cell_type": "code",
      "source": [
        "fig, ax = plt.subplots(1, 3, figsize=(15, 5))\n",
        "ax[0].imshow(test_image_compressed)\n",
        "ax[0].set_title(\"Original low-resolution image\")\n",
        "ax[1].imshow(upscaled_img)\n",
        "ax[1].set_title(\"Upscaled Image\")\n",
        "ax[2].imshow(test_image_highres)\n",
        "ax[2].set_title(\"Original high-resolution Image\")\n",
        "plt.show()"
      ],
      "metadata": {
        "colab": {
          "base_uri": "https://localhost:8080/",
          "height": 424
        },
        "id": "HcqWK_Ojf5LO",
        "outputId": "61edfe0e-9a46-40fc-8159-d8beeeaf0ef5"
      },
      "execution_count": 27,
      "outputs": [
        {
          "output_type": "display_data",
          "data": {
            "text/plain": [
              "<Figure size 1500x500 with 3 Axes>"
            ],
            "image/png": "[encoded data removed]"
          },
          "metadata": {}
        }
      ]
    }
  ]
}